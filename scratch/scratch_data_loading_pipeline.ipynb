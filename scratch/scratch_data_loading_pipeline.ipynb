{
 "cells": [
  {
   "cell_type": "code",
   "execution_count": 7,
   "metadata": {},
   "outputs": [],
   "source": [
    "import pandas as pd\n",
    "import numpy as np\n",
    "import matplotlib.pyplot as plt\n",
    "import anndata as ad\n",
    "import scanpy as sc\n",
    "import os\n",
    "import squidpy as sq\n",
    "from sklearn.preprocessing import LabelEncoder\n",
    "import json\n",
    "\n",
    "import torch\n",
    "import torchsde\n",
    "from torchdyn.core import NeuralODE\n",
    "from tqdm import tqdm\n",
    "import sys\n",
    "sys.path.append('/Users/rssantanu/Desktop/codebase/constrained_FM')\n",
    "from src.ode_helper_functions import *\n",
    "from src.data_loading import preprocess_data, process_data, get_batch\n",
    "from src.plots import plot_trajectories, plot_trajectories_new\n",
    "from src.evaluate import *\n",
    "\n",
    "from torchcfm.conditional_flow_matching import *\n",
    "from torchcfm.models import MLP, GradModel, Graph_like_transformer\n",
    "from torchcfm.utils import torch_wrapper\n",
    "\n",
    "import argparse\n",
    "\n",
    "MODEL_REGISTRY = {\n",
    "    \"mlp\": MLP,\n",
    "    \"graph_like_transformer\": Graph_like_transformer,\n",
    "    \"gradmodel\": GradModel,\n",
    "    # Add more models here as needed\n",
    "}\n"
   ]
  },
  {
   "cell_type": "code",
   "execution_count": 46,
   "metadata": {},
   "outputs": [
    {
     "name": "stderr",
     "output_type": "stream",
     "text": [
      "/Users/rssantanu/anaconda3/envs/torch_flow_matching/lib/python3.10/site-packages/anndata/_core/anndata.py:1756: UserWarning: Observation names are not unique. To make them unique, call `.obs_names_make_unique`.\n",
      "  utils.warn_names_duplicates(\"obs\")\n"
     ]
    }
   ],
   "source": [
    "scRNA = ad.read_h5ad(os.path.join('/Users/rssantanu/Desktop/codebase/constrained_FM', 'datasets/h5ad_processed_datasets', 'GSE232025_stereoseq.h5ad'))\n",
    "labels_dict = {'1':1, '2':2, '3':3, '4':4, '5':5}\n",
    "cell_type_key = 'celltype'\n",
    "\n",
    "params = json.load(open('/Users/rssantanu/Desktop/codebase/constrained_FM/train_configs/v7_pca.json'))\n",
    "\n",
    "# add more params keys\n",
    "params['dim'] = scRNA.obsm[f'X_{params[\"representation\"]}'].shape[1]\n",
    "params['out_dim'] = scRNA.obsm[f'X_{params[\"representation\"]}'].shape[1]\n",
    "\n",
    "device = torch.device(\"cuda\" if torch.cuda.is_available() else \"cpu\")\n",
    "\n",
    "day_list = (scRNA.obs[\"day\"]).values.tolist()\n",
    "\n",
    "X_raw, data_df = preprocess_data(scRNA)\n",
    "X_phate, X_phate_conditional, Spatial, Celltype_list = process_data(scRNA, X_raw, cell_type_key, labels_dict, params['use_spatial'], params['use_celltype'], params['use_bio_prior'], params['representation'])\n"
   ]
  },
  {
   "cell_type": "code",
   "execution_count": 44,
   "metadata": {},
   "outputs": [],
   "source": [
    "from sklearn.model_selection import StratifiedKFold, train_test_split\n",
    "import numpy as np\n",
    "\n",
    "all_data = [0,1,2,3,4]\n",
    "\n",
    "a1,b1 = train_test_split(all_data[1:], test_size=0.2, random_state=42)\n",
    "a2,b2 = train_test_split(all_data[1:], test_size=0.2, random_state=43)\n",
    "a3,b3 = train_test_split(all_data[1:], test_size=0.2, random_state=44)\n",
    "a4,b4 = train_test_split(all_data[1:], test_size=0.2, random_state=45)\n",
    "\n",
    "\n",
    "# n_splits = 5\n",
    "# skf = StratifiedKFold(n_splits=n_splits, shuffle=True, random_state=42)\n",
    "\n",
    "# X_phate = np.array(X_phate)\n",
    "# X_phate_conditional = np.array(X_phate_conditional)\n",
    "# Spatial = np.array(Spatial)\n",
    "# Celltype_list = np.array(Celltype_list)\n",
    "\n",
    "# for fold, (train_idx, test_idx) in enumerate(skf.split(X_phate, [1]*len(X_phate))):\n",
    "#     print(train_idx)\n",
    "#     print(test_idx)\n",
    "\n",
    "    # Xp_train, Xp_test = X_phate[train_idx], X_phate[test_idx]\n",
    "    # Xpc_train, Xpc_test = X_phate_conditional[train_idx], X_phate_conditional[test_idx]\n",
    "    # S_train, S_test = Spatial[train_idx], Spatial[test_idx]\n",
    "    # C_train, C_test = Celltype_list[train_idx], Celltype_list[test_idx]\n",
    "    # print(f\"Fold {fold+1}: Train size {len(train_idx)}, Test size {len(test_idx)}\")"
   ]
  },
  {
   "cell_type": "code",
   "execution_count": 45,
   "metadata": {},
   "outputs": [
    {
     "data": {
      "text/plain": [
       "array([0, 1, 2, 3, 4])"
      ]
     },
     "execution_count": 45,
     "metadata": {},
     "output_type": "execute_result"
    }
   ],
   "source": [
    "np.arange(len(all_data))"
   ]
  },
  {
   "cell_type": "code",
   "execution_count": 43,
   "metadata": {},
   "outputs": [
    {
     "name": "stdout",
     "output_type": "stream",
     "text": [
      "[1, 3, 4] [1, 2, 4] [1, 2, 3] [2, 3, 4]\n"
     ]
    }
   ],
   "source": [
    "print(sorted(a1), sorted(a2), sorted(a3), sorted(a4))"
   ]
  },
  {
   "cell_type": "code",
   "execution_count": 40,
   "metadata": {},
   "outputs": [
    {
     "ename": "TypeError",
     "evalue": "list indices must be integers or slices, not list",
     "output_type": "error",
     "traceback": [
      "\u001b[0;31m---------------------------------------------------------------------------\u001b[0m",
      "\u001b[0;31mTypeError\u001b[0m                                 Traceback (most recent call last)",
      "Cell \u001b[0;32mIn[40], line 1\u001b[0m\n\u001b[0;32m----> 1\u001b[0m \u001b[43mall_data\u001b[49m\u001b[43m[\u001b[49m\u001b[43m[\u001b[49m\u001b[38;5;241;43m3\u001b[39;49m\u001b[43m,\u001b[49m\u001b[38;5;241;43m4\u001b[39;49m\u001b[43m,\u001b[49m\u001b[38;5;241;43m5\u001b[39;49m\u001b[43m]\u001b[49m\u001b[43m]\u001b[49m\n",
      "\u001b[0;31mTypeError\u001b[0m: list indices must be integers or slices, not list"
     ]
    }
   ],
   "source": [
    "all_data[[3,4,5]]"
   ]
  },
  {
   "cell_type": "code",
   "execution_count": null,
   "metadata": {},
   "outputs": [],
   "source": []
  }
 ],
 "metadata": {
  "kernelspec": {
   "display_name": "torch_flow_matching",
   "language": "python",
   "name": "python3"
  },
  "language_info": {
   "codemirror_mode": {
    "name": "ipython",
    "version": 3
   },
   "file_extension": ".py",
   "mimetype": "text/x-python",
   "name": "python",
   "nbconvert_exporter": "python",
   "pygments_lexer": "ipython3",
   "version": "3.10.15"
  }
 },
 "nbformat": 4,
 "nbformat_minor": 2
}
