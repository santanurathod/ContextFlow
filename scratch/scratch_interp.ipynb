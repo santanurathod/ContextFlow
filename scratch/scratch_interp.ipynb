{
 "cells": [
  {
   "cell_type": "code",
   "execution_count": 1,
   "id": "fe4cf59a",
   "metadata": {},
   "outputs": [],
   "source": [
    "import torch\n",
    "import torch.nn as nn\n",
    "import torch.optim as optim\n",
    "import torch.nn.functional as F\n",
    "import torch.distributions as D\n",
    "\n",
    "import numpy as np\n",
    "\n",
    "\n",
    "\n",
    "\n"
   ]
  },
  {
   "cell_type": "code",
   "execution_count": 5,
   "id": "00ed069c",
   "metadata": {},
   "outputs": [],
   "source": [
    "# Define the range\n",
    "min_value = 0\n",
    "max_value = 3\n",
    "\n",
    "# Generate random values between 0 and 1, then scale to the desired range\n",
    "random_values = min_value + (max_value - min_value) * torch.rand(10)\n"
   ]
  },
  {
   "cell_type": "code",
   "execution_count": 6,
   "id": "053bfe07",
   "metadata": {},
   "outputs": [
    {
     "data": {
      "text/plain": [
       "tensor([1.1290, 0.7457, 1.7894, 0.0707, 1.3851, 1.3417, 2.9556, 1.8964, 2.9958,\n",
       "        1.9571])"
      ]
     },
     "execution_count": 6,
     "metadata": {},
     "output_type": "execute_result"
    }
   ],
   "source": [
    "random_values"
   ]
  },
  {
   "cell_type": "code",
   "execution_count": null,
   "id": "f5e23e29",
   "metadata": {},
   "outputs": [],
   "source": [
    "def sample_location_and_conditional_flow_interpolation(self, x0, x1, p0=None, p1=None, ct0=None, ct1=None, mc0=None, mc1=None, lr0=None, lr1=None, t=None, return_noise=False, cc_index=None,  params=None, t_start=None, t_end=None):\n",
    "        \"\"\"\n",
    "        ditto copy but interpolation; don't want to change the original function \n",
    "        \"\"\"\n",
    "\n",
    "        lambda_= params['lambda_']\n",
    "        lambda_bio_prior= params['lambda_bio_prior']\n",
    "        method= params['ot_method']\n",
    "        cc_communication_type= params['cc_communication_type']\n",
    "\n",
    "        x0, x1 = self.ot_sampler.sample_plan(x0, x1, p0, p1, ct0, ct1, mc0, mc1, lr0, lr1, method=method, cc_index=cc_index, params=params)\n",
    "\n",
    "            \n",
    "        return super().sample_location_and_conditional_flow_interpolation(x0, x1, t, return_noise, t_start= t_start,t_end= t_end)"
   ]
  },
  {
   "cell_type": "code",
   "execution_count": null,
   "id": "2313a967",
   "metadata": {},
   "outputs": [],
   "source": [
    "def sample_location_and_conditional_flow_interpolation(self, x0, x1, t=None, return_noise=False, t_start=None, t_end=None):\n",
    "        \"\"\"\n",
    "        ditto copy but interpolation; don't want to change the original function \n",
    "        \"\"\"\n",
    "        if t is None:\n",
    "            t = torch.rand(x0.shape[0]).type_as(x0)\n",
    "        assert len(t) == x0.shape[0], \"t has to have batch size dimension\"\n",
    "\n",
    "        delta_t = t_end - t_start\n",
    "        t = delta_t * t\n",
    "\n",
    "        eps = self.sample_noise_like(x0)\n",
    "        xt = self.sample_xt(x0, x1, t, eps)\n",
    "        ut = self.compute_conditional_flow(x0, x1, t, xt)\n",
    "        if return_noise:\n",
    "            return t, xt, ut, eps\n",
    "        else:\n",
    "            return t, xt, ut"
   ]
  }
 ],
 "metadata": {
  "kernelspec": {
   "display_name": "torch_flow_matching",
   "language": "python",
   "name": "python3"
  },
  "language_info": {
   "codemirror_mode": {
    "name": "ipython",
    "version": 3
   },
   "file_extension": ".py",
   "mimetype": "text/x-python",
   "name": "python",
   "nbconvert_exporter": "python",
   "pygments_lexer": "ipython3",
   "version": "3.10.15"
  }
 },
 "nbformat": 4,
 "nbformat_minor": 5
}
