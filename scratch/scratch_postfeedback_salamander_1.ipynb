{
 "cells": [
  {
   "cell_type": "code",
   "execution_count": 1,
   "id": "f8acd7a2",
   "metadata": {},
   "outputs": [
    {
     "name": "stderr",
     "output_type": "stream",
     "text": [
      "/Users/rssantanu/anaconda3/envs/torch_flow_matching/lib/python3.10/site-packages/dask/dataframe/__init__.py:31: FutureWarning: The legacy Dask DataFrame implementation is deprecated and will be removed in a future version. Set the configuration option `dataframe.query-planning` to `True` or None to enable the new Dask Dataframe implementation and silence this warning.\n",
      "  warnings.warn(\n",
      "/Users/rssantanu/anaconda3/envs/torch_flow_matching/lib/python3.10/site-packages/anndata/utils.py:434: FutureWarning: Importing read_text from `anndata` is deprecated. Import anndata.io.read_text instead.\n",
      "  warnings.warn(msg, FutureWarning)\n"
     ]
    }
   ],
   "source": [
    "import pandas as pd\n",
    "import numpy as np\n",
    "import matplotlib.pyplot as plt\n",
    "import anndata as ad\n",
    "import scanpy as sc\n",
    "import os\n",
    "import numpy as np\n",
    "import pandas as pd\n",
    "import squidpy as sq\n",
    "import os\n",
    "from sklearn.preprocessing import LabelEncoder\n",
    "import scprep\n",
    "from scvi.model import SCVI\n",
    "import torch\n",
    "import torchsde\n",
    "from torchdyn.core import NeuralODE\n",
    "from tqdm import tqdm\n",
    "from torchcfm.conditional_flow_matching import *\n",
    "from torchcfm.models import MLP, GradModel\n",
    "from torchcfm.utils import plot_trajectories, torch_wrapper\n",
    "import pandas as pd\n",
    "import seaborn as sns\n",
    "from umap import UMAP\n",
    "import torch.nn as nn\n",
    "from torchdyn.core import NeuralODE\n",
    "import seaborn as sns\n",
    "from scvi.model import SCVI\n",
    "import scvi\n",
    "from scipy.stats import wasserstein_distance\n",
    "from scipy.stats import energy_distance\n",
    "from sklearn.metrics import r2_score\n",
    "from sklearn.neighbors import NearestNeighbors\n",
    "\n",
    "import matplotlib.colors as mcolors\n"
   ]
  },
  {
   "cell_type": "code",
   "execution_count": 2,
   "id": "bedc7437",
   "metadata": {},
   "outputs": [],
   "source": [
    "def compute_local_mean(scRNA, representation='X_pca', spatial_key='spatial', radius=50):\n",
    "    \"\"\"\n",
    "    Compute mean vector of the chosen representation for spatial neighbors.\n",
    "    \n",
    "    Parameters:\n",
    "        scRNA: AnnData object\n",
    "        representation: str, key in .obsm, e.g. 'X_pca', 'X_umap', 'X_scVI'\n",
    "        spatial_key: str, key in .obsm with spatial coordinates\n",
    "        radius: float, neighborhood radius in same units as coordinates\n",
    "    \"\"\"\n",
    "    coords = scRNA.obsm[spatial_key]\n",
    "    X = scRNA.obsm[representation]\n",
    "\n",
    "    nbrs = NearestNeighbors(radius=radius).fit(coords)\n",
    "    neighbors_idx = nbrs.radius_neighbors(coords, return_distance=False)\n",
    "\n",
    "    local_means = np.zeros_like(X)\n",
    "\n",
    "    for i, idx in enumerate(neighbors_idx):\n",
    "        if len(idx) > 0:\n",
    "            local_means[i] = X[idx].mean(axis=0)\n",
    "        else:\n",
    "            local_means[i] = X[i]  \n",
    "\n",
    "    # Store the result in .obsm\n",
    "    scRNA.obsm[f\"local_mean_{representation}\"] = local_means\n",
    "\n",
    "    return scRNA\n",
    "\n",
    "\n",
    "def get_scVI_latent_representation(scRNA, cell_type_key, spatial_key):\n",
    "        print (\"Using scVI for input data\")\n",
    "        #read the data (again cause scVI requires unormalized data) and set up scVI\n",
    "        le = LabelEncoder()\n",
    "        scRNA.obs[cell_type_key] = le.fit_transform(scRNA.obs[cell_type_key])\n",
    "        scvi.model.SCVI.setup_anndata(scRNA)\n",
    "        model = SCVI(scRNA)\n",
    "        model.train()\n",
    "        latent = model.get_latent_representation()\n",
    "        scRNA.obsm[\"X_scVI\"] = latent\n",
    "        scRNA = compute_local_mean(scRNA, representation='X_scVI', radius=50)\n",
    "        return scRNA"
   ]
  },
  {
   "cell_type": "code",
   "execution_count": 3,
   "id": "0f66cba2",
   "metadata": {},
   "outputs": [],
   "source": [
    "def load_scRNA_GSE232025(data_path):\n",
    "    \"\"\"\n",
    "    This function processes the GSE232025 dataset and returns the concatenated AnnData object.\n",
    "    \"\"\"\n",
    "    sc1= sc.read_h5ad(os.path.join(data_path, \"d0_spatial_scRNAseq.h5ad\"))\n",
    "    sc1.obs[\"Batch\"] = \"0\"\n",
    "    sc2= sc.read_h5ad(os.path.join(data_path, \"d1_spatial_scRNAseq.h5ad\"))\n",
    "    sc2.obs[\"Batch\"] = \"1\"\n",
    "    sc3= sc.read_h5ad(os.path.join(data_path, \"d2_spatial_scRNAseq.h5ad\"))\n",
    "    sc3.obs[\"Batch\"] = \"2\"\n",
    "    sc4= sc.read_h5ad(os.path.join(data_path, \"d3_spatial_scRNAseq.h5ad\"))\n",
    "    sc4.obs[\"Batch\"] = \"3\"\n",
    "    sc5= sc.read_h5ad(os.path.join(data_path, \"d4_spatial_scRNAseq.h5ad\"))\n",
    "    sc5.obs[\"Batch\"] = \"4\"\n",
    "\n",
    "    adatas = [sc1, sc2, sc3, sc4, sc5]\n",
    "\n",
    "    ## cell color mapping\n",
    "    all_cell_types = set()\n",
    "    for adata in adatas:\n",
    "        all_cell_types.update(adata.obs[\"Annotation\"].unique())\n",
    "\n",
    "    # Create a consistent color map for all cell types\n",
    "    palette = sns.color_palette(\"tab20\", len(all_cell_types))\n",
    "    color_dict = dict(zip(sorted(all_cell_types), palette))\n",
    "\n",
    "    for sci in adatas:\n",
    "        sci.obs = sci.obs.rename(columns={\"Annotation\": \"celltype\", \"Batch\": \"day\"})\n",
    "        sci.obs[\"celltype\"] = sci.obs[\"celltype\"].astype(str)\n",
    "        sci.obs[\"color\"] = sci.obs[\"celltype\"].map(color_dict)\n",
    "        sci.obs[\"color\"] = sci.obs[\"color\"].apply(lambda x: mcolors.to_hex(x) if isinstance(x, (tuple, list, np.ndarray)) else x)\n",
    "    scRNA = ad.concat(adatas, label='day', keys=[a.obs['day'][0] for a in adatas])\n",
    "\n",
    "    return scRNA"
   ]
  },
  {
   "cell_type": "code",
   "execution_count": 4,
   "id": "8fc88b27",
   "metadata": {},
   "outputs": [],
   "source": [
    "def apply_processing_steps(scRNA, GSE_ID, num_genes=2000, n_comps=50):\n",
    "    \"\"\"\n",
    "    This function applies the processing steps to the AnnData object.\n",
    "    There needs to standardized processing steps for all datasets, this is a temporary solution.\n",
    "    \"\"\"\n",
    "    if GSE_ID == \"GSE232025\":\n",
    "        sc.pp.highly_variable_genes(scRNA, batch_key='day', n_top_genes=num_genes, flavor='seurat_v3')\n",
    "        scRNA = scRNA[:, scRNA.var.highly_variable]\n",
    "        sc.tl.pca(scRNA, n_comps=n_comps)\n",
    "        sc.pp.neighbors(scRNA)\n",
    "        sc.tl.umap(scRNA)\n",
    "        scRNA= compute_local_mean(scRNA, representation='X_pca')\n",
    "        # scRNA = get_scVI_latent_representation(scRNA, cell_type_key='celltype', spatial_key='spatial')\n",
    "\n",
    "    elif GSE_ID == \"GSE149457\":\n",
    "        sc.pp.normalize_total(scRNA, target_sum=1e4)\n",
    "        sc.pp.log1p(scRNA)\n",
    "        sc.pp.highly_variable_genes(scRNA, n_top_genes=num_genes, subset=True)\n",
    "        sc.pp.scale(scRNA, max_value=10)\n",
    "        sc.tl.pca(scRNA, n_comps=n_comps)\n",
    "        sc.pp.neighbors(scRNA)\n",
    "        sc.tl.umap(scRNA)\n",
    "\n",
    "    return scRNA\n"
   ]
  },
  {
   "cell_type": "code",
   "execution_count": 5,
   "id": "7d200cf3",
   "metadata": {},
   "outputs": [],
   "source": [
    "base_path= \"/Users/rssantanu/Desktop/codebase/constrained_FM/datasets\"\n",
    "\n",
    "def get_concatenated_dynamic_data(GSE_ID, save_path=None, data_type=\"scRNA\", num_genes=2000, n_comps=50):\n",
    "    \"\"\"\n",
    "    This function concatenates the dynamic data from the raw datasets and saves it as a csv file.\n",
    "    \"\"\"\n",
    "    # Get the raw data\n",
    "\n",
    "    if GSE_ID == \"GSE149457\" and data_type == \"scRNA\":\n",
    "        data_path = os.path.join(base_path, \"raw_datasets\", \"GSE149457\")\n",
    "        scRNA = load_scRNA_GSE149457(data_path)\n",
    "        scRNA = apply_processing_steps(scRNA, GSE_ID, num_genes=num_genes, n_comps=n_comps)\n",
    "    \n",
    "    elif GSE_ID == \"GSE232025\" and data_type == \"scRNA\":\n",
    "        data_path = os.path.join(base_path, \"raw_datasets\", \"GSE232025\")\n",
    "        scRNA = load_scRNA_GSE232025(data_path)\n",
    "        scRNA = apply_processing_steps(scRNA, GSE_ID, num_genes=num_genes, n_comps=n_comps)\n",
    "    \n",
    "    return scRNA"
   ]
  },
  {
   "cell_type": "code",
   "execution_count": 6,
   "id": "e7cecdc6",
   "metadata": {},
   "outputs": [
    {
     "name": "stderr",
     "output_type": "stream",
     "text": [
      "/var/folders/mc/s2w117k11cj56552qbkf28zw0000gn/T/ipykernel_26772/524301025.py:32: FutureWarning: Series.__getitem__ treating keys as positions is deprecated. In a future version, integer keys will always be treated as labels (consistent with DataFrame behavior). To access a value by position, use `ser.iloc[pos]`\n",
      "  scRNA = ad.concat(adatas, label='day', keys=[a.obs['day'][0] for a in adatas])\n",
      "/Users/rssantanu/anaconda3/envs/torch_flow_matching/lib/python3.10/site-packages/anndata/_core/anndata.py:1756: UserWarning: Observation names are not unique. To make them unique, call `.obs_names_make_unique`.\n",
      "  utils.warn_names_duplicates(\"obs\")\n",
      "/Users/rssantanu/anaconda3/envs/torch_flow_matching/lib/python3.10/site-packages/scanpy/preprocessing/_highly_variable_genes.py:75: UserWarning: `flavor='seurat_v3'` expects raw count data, but non-integers were found.\n",
      "  warnings.warn(\n",
      "/Users/rssantanu/anaconda3/envs/torch_flow_matching/lib/python3.10/site-packages/scanpy/preprocessing/_pca.py:314: ImplicitModificationWarning: Setting element `.obsm['X_pca']` of view, initializing view as actual.\n",
      "  adata.obsm[key_obsm] = X_pca\n",
      "/Users/rssantanu/anaconda3/envs/torch_flow_matching/lib/python3.10/site-packages/anndata/_core/anndata.py:1756: UserWarning: Observation names are not unique. To make them unique, call `.obs_names_make_unique`.\n",
      "  utils.warn_names_duplicates(\"obs\")\n"
     ]
    }
   ],
   "source": [
    "GSE_ID = \"GSE232025\"\n",
    "scRNA= get_concatenated_dynamic_data(GSE_ID, num_genes=2000, n_comps=50)"
   ]
  },
  {
   "cell_type": "code",
   "execution_count": 11,
   "id": "2d38faf5",
   "metadata": {},
   "outputs": [
    {
     "data": {
      "text/plain": [
       "AnnData object with n_obs × n_vars = 28757 × 2000\n",
       "    obs: 'CellID', 'day', 'cell_id', 'celltype', 'color'\n",
       "    var: 'highly_variable', 'highly_variable_rank', 'means', 'variances', 'variances_norm', 'highly_variable_nbatches'\n",
       "    uns: 'hvg', 'pca', 'neighbors', 'umap'\n",
       "    obsm: 'spatial', 'X_pca', 'X_umap', 'local_mean_X_pca'\n",
       "    varm: 'PCs'\n",
       "    layers: 'counts'\n",
       "    obsp: 'distances', 'connectivities'"
      ]
     },
     "execution_count": 11,
     "metadata": {},
     "output_type": "execute_result"
    }
   ],
   "source": [
    "scRNA"
   ]
  },
  {
   "cell_type": "code",
   "execution_count": null,
   "id": "76b5c072",
   "metadata": {},
   "outputs": [],
   "source": [
    "lrdata_by_day= []\n",
    "\n",
    "for stage in scRNA.obs['day'].unique():\n",
    "    adata_stage = scRNA[scRNA.obs['day'] == stage].copy()\n",
    "    lrdata = li.mt.bivariate(adata_stage,\n",
    "                resource_name='consensus', # NOTE: uses HUMAN gene symbols!\n",
    "                local_name='cosine', # Name of the function\n",
    "                global_name=\"morans\", # Name global function\n",
    "                n_perms=100, # Number of permutations to calculate a p-value\n",
    "                mask_negatives=False, # Whether to mask LowLow/NegativeNegative interactions\n",
    "                add_categories=True, # Whether to add local categories to the results\n",
    "                nz_prop=0.01, # Minimum expr. proportion for ligands/receptors and their subunits\n",
    "                use_raw=False,\n",
    "                verbose=True\n",
    "                )\n",
    "    # Save or analyze results for this stage\n",
    "    # adata_stage.uns['liana_res'].to_csv(f'liana_results_stage_{stage}.csv')\n",
    "    lrdata_by_day.append(lrdata)"
   ]
  }
 ],
 "metadata": {
  "kernelspec": {
   "display_name": "torch_flow_matching",
   "language": "python",
   "name": "python3"
  },
  "language_info": {
   "codemirror_mode": {
    "name": "ipython",
    "version": 3
   },
   "file_extension": ".py",
   "mimetype": "text/x-python",
   "name": "python",
   "nbconvert_exporter": "python",
   "pygments_lexer": "ipython3",
   "version": "3.10.15"
  }
 },
 "nbformat": 4,
 "nbformat_minor": 5
}
